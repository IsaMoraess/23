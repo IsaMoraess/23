{
 "cells": [
  {
   "cell_type": "markdown",
   "id": "7a56417e",
   "metadata": {},
   "source": [
    "# Trabalhando com Polimorfismo de Classe em Python\n",
    "\n",
    "E um dos conceitos fundamentais da (POO). O Polimorfismo permite que objetos diferentes classes possam ser tratados de forma uniforme. Isso significa quem um objeto pode ser tratado como se fosse um objeto de uma superclasse, mesmo que ele seja se uma subclasse.\n",
    "\n",
    "Mais especificamente, o polimorfismo se refere á habilidade de um objeto responder de diferentes formas a uma mesma mensagem. Isso e possivel porque as subclasses podem implementar métodos da superclasse, mas com comportamento diferentes.\n",
    "\n",
    "Os mesmo atributos e metodos pode ser utilizados em objetos distintos, porém com implementações logicas diferentes."
   ]
  },
  {
   "cell_type": "code",
   "execution_count": 1,
   "id": "2985f4cf",
   "metadata": {},
   "outputs": [],
   "source": [
    "# Superclasse\n",
    "class Transporte:\n",
    "    \n",
    "    def __init__(self, marca, modelo):\n",
    "        self.marca = marca\n",
    "        self.modelo = modelo\n",
    "        \n",
    "    def acelerar(self):\n",
    "        pass\n",
    "    \n",
    "    def frear(self):\n",
    "        pass"
   ]
  },
  {
   "cell_type": "code",
   "execution_count": 2,
   "id": "95c9596b",
   "metadata": {},
   "outputs": [],
   "source": [
    "# Subclasse\n",
    "class Carro(Transporte):\n",
    "\n",
    "    def acelerar(self):\n",
    "        print(\"O Carro esta acelerando.\")\n",
    "        \n",
    "    def frear(self):\n",
    "        print(\"O Carro esta freando.\")"
   ]
  },
  {
   "cell_type": "code",
   "execution_count": 3,
   "id": "68936820",
   "metadata": {},
   "outputs": [],
   "source": [
    "# Subclasse\n",
    "class Bicicleta(Transporte):\n",
    "\n",
    "    def acelerar(self):\n",
    "        print(\"A Bicicleta esta acelerando.\")\n",
    "        \n",
    "    def frear(self):\n",
    "        print(\"A Bicicleta esta freando.\")"
   ]
  },
  {
   "cell_type": "code",
   "execution_count": 4,
   "id": "26888a72",
   "metadata": {},
   "outputs": [],
   "source": [
    "class Avião(Transporte):\n",
    "\n",
    "    def acelerar(self):\n",
    "        print(\"O Avião esta acelerando.\")\n",
    "        \n",
    "    def frear(self):\n",
    "        print(\"O Avião esta freando.\")\n",
    "        \n",
    "    def decolar(self):\n",
    "        print(\"O Avião esta decolando.\")"
   ]
  },
  {
   "cell_type": "code",
   "execution_count": 5,
   "id": "07cb3e3e",
   "metadata": {},
   "outputs": [],
   "source": [
    "# Cria os objetos\n",
    "lista_Transporte = [Carro(\"Porche\", \"911 Turbo\"), Bicicleta(\"Caloi\", \"Aro-12 Black Edition\"), Avião(\"Boeing\", \"757\")]"
   ]
  },
  {
   "cell_type": "code",
   "execution_count": 6,
   "id": "d7c1921e",
   "metadata": {},
   "outputs": [
    {
     "name": "stdout",
     "output_type": "stream",
     "text": [
      "O Carro esta acelerando.\n",
      "O Carro esta freando.\n",
      "---\n",
      "A Bicicleta esta acelerando.\n",
      "A Bicicleta esta freando.\n",
      "---\n",
      "O Avião esta acelerando.\n",
      "O Avião esta freando.\n",
      "O Avião esta decolando.\n",
      "---\n"
     ]
    }
   ],
   "source": [
    "# Loop\n",
    "for item in lista_Transporte:\n",
    "    \n",
    "    # O método acelerar tem o comportamento diferente dependendo o tipo de objeto.\n",
    "    item.acelerar()\n",
    "    \n",
    "    # O método frear tem o comportamento diferente dependendo o tipo de objeto.\n",
    "    item.frear()\n",
    "    \n",
    "    # Executamos o metodo decolar somente se o objeto for instancia da classe Avião.\n",
    "    if isinstance(item, Avião):\n",
    "        item.decolar()\n",
    "        \n",
    "    print(\"---\")"
   ]
  },
  {
   "cell_type": "markdown",
   "id": "9662f0a3",
   "metadata": {},
   "source": [
    "# Fim"
   ]
  }
 ],
 "metadata": {
  "kernelspec": {
   "display_name": "Python 3 (ipykernel)",
   "language": "python",
   "name": "python3"
  },
  "language_info": {
   "codemirror_mode": {
    "name": "ipython",
    "version": 3
   },
   "file_extension": ".py",
   "mimetype": "text/x-python",
   "name": "python",
   "nbconvert_exporter": "python",
   "pygments_lexer": "ipython3",
   "version": "3.9.13"
  }
 },
 "nbformat": 4,
 "nbformat_minor": 5
}
